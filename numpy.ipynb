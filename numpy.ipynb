{
 "cells": [
  {
   "cell_type": "code",
   "execution_count": 3,
   "id": "0d34e101-4093-4849-a4a2-2d39cca48e78",
   "metadata": {
    "scrolled": true
   },
   "outputs": [
    {
     "name": "stdout",
     "output_type": "stream",
     "text": [
      "[23, 45, 67, 87]\n"
     ]
    }
   ],
   "source": [
    "array=[23,45,67,87]\n",
    "print(array)"
   ]
  },
  {
   "cell_type": "raw",
   "id": "b3720a3e-001c-41cb-bf7a-c9adef71fecc",
   "metadata": {},
   "source": [
    "pip install numpy"
   ]
  },
  {
   "cell_type": "code",
   "execution_count": 21,
   "id": "47b11070-65ee-4e53-b8c4-970bfc2b957b",
   "metadata": {},
   "outputs": [
    {
     "name": "stdout",
     "output_type": "stream",
     "text": [
      "[12 34 56 33]\n"
     ]
    }
   ],
   "source": [
    "import numpy as np\n",
    "arr1=np.array([12,34,56,33])\n",
    "print(arr1)"
   ]
  },
  {
   "cell_type": "raw",
   "id": "6f688910-2127-4e08-b0dd-b6157568318b",
   "metadata": {},
   "source": [
    "import numpy as np\n",
    "arr=np.array([[1,2,3],[4,5,6]])\n",
    "print(arr)"
   ]
  },
  {
   "cell_type": "code",
   "execution_count": 19,
   "id": "1ae0b442-d0f7-4b62-8f0d-f96ccd575662",
   "metadata": {},
   "outputs": [
    {
     "name": "stdout",
     "output_type": "stream",
     "text": [
      "[[1 2 3]\n",
      " [4 5 6]]\n"
     ]
    }
   ],
   "source": [
    "import numpy as np\n",
    "arr2=np.array([[1,2,3],[4,5,6]])\n",
    "print(arr2)"
   ]
  },
  {
   "cell_type": "code",
   "execution_count": 17,
   "id": "02e1b5e4-3198-4a5f-9e75-82427abc7254",
   "metadata": {},
   "outputs": [
    {
     "name": "stdout",
     "output_type": "stream",
     "text": [
      "[[[34 45 88 33]\n",
      "  [12 11 14 15]\n",
      "  [55 99  0 22]]]\n"
     ]
    }
   ],
   "source": [
    "import numpy as np\n",
    "arr3=np.array([[[34,45,88,33],[12,11,14,15],[55,99,00,22]]])\n",
    "print(arr3)"
   ]
  },
  {
   "cell_type": "code",
   "execution_count": 23,
   "id": "b7abd36f-1ed9-4313-96f7-d20411f34e09",
   "metadata": {},
   "outputs": [
    {
     "name": "stdout",
     "output_type": "stream",
     "text": [
      "2\n"
     ]
    }
   ],
   "source": [
    "print(arr2.ndim) "
   ]
  },
  {
   "cell_type": "code",
   "execution_count": 25,
   "id": "c0d2db1d-4659-404e-b950-8ae7e5541969",
   "metadata": {},
   "outputs": [
    {
     "name": "stdout",
     "output_type": "stream",
     "text": [
      "1\n"
     ]
    }
   ],
   "source": [
    "print(arr1.ndim) "
   ]
  },
  {
   "cell_type": "code",
   "execution_count": 27,
   "id": "79708a10-0569-4ab3-badd-d51795592e98",
   "metadata": {},
   "outputs": [
    {
     "name": "stdout",
     "output_type": "stream",
     "text": [
      "3\n"
     ]
    }
   ],
   "source": [
    "print(arr3.ndim) "
   ]
  },
  {
   "cell_type": "code",
   "execution_count": 33,
   "id": "06b3cecc-3d05-4313-b04f-af50f0323361",
   "metadata": {},
   "outputs": [
    {
     "name": "stdout",
     "output_type": "stream",
     "text": [
      "4\n"
     ]
    }
   ],
   "source": [
    "import numpy as np\n",
    "arr=np.array([[1,2,3,4,5],[6,7,8,9,10]])\n",
    "print(arr[0,3])"
   ]
  },
  {
   "cell_type": "code",
   "execution_count": 39,
   "id": "3be60c0a-cd5a-4794-9449-e31df481e8e0",
   "metadata": {},
   "outputs": [
    {
     "name": "stdout",
     "output_type": "stream",
     "text": [
      "5\n"
     ]
    }
   ],
   "source": [
    "import numpy as pd\n",
    "arr=np.array([[1,2,3,4,9,7],[2,4,5,6,5,4]])\n",
    "print(arr[1,4])"
   ]
  },
  {
   "cell_type": "code",
   "execution_count": 41,
   "id": "a2b6e62a-86dd-45ad-b24d-7fb1573ae34f",
   "metadata": {},
   "outputs": [
    {
     "name": "stdout",
     "output_type": "stream",
     "text": [
      "3\n"
     ]
    }
   ],
   "source": [
    "print(arr[0,2])"
   ]
  },
  {
   "cell_type": "code",
   "execution_count": 45,
   "id": "e3116d9b-1958-4d7e-bf12-9f3f2fcdc4d5",
   "metadata": {},
   "outputs": [
    {
     "name": "stdout",
     "output_type": "stream",
     "text": [
      "14\n"
     ]
    }
   ],
   "source": [
    "print(arr3[0,1,2])"
   ]
  },
  {
   "cell_type": "code",
   "execution_count": 47,
   "id": "77753542-20f5-400d-9798-cb9546a55808",
   "metadata": {},
   "outputs": [
    {
     "name": "stdout",
     "output_type": "stream",
     "text": [
      "[[[ 3  4  8]\n",
      "  [ 1  3  9]]\n",
      "\n",
      " [[ 9  0  2]\n",
      "  [12 67 88]]]\n"
     ]
    }
   ],
   "source": [
    "import numpy as np\n",
    "arr3=np.array([[[3,4,8],[1,3,9]],[[9,0,2],[12,67,88]]])\n",
    "print(arr3)"
   ]
  },
  {
   "cell_type": "code",
   "execution_count": 49,
   "id": "f3f1257d-26a4-490d-b17c-5ef2d3204bf4",
   "metadata": {},
   "outputs": [
    {
     "name": "stdout",
     "output_type": "stream",
     "text": [
      "3\n"
     ]
    }
   ],
   "source": [
    "print(arr3[0,1,1])"
   ]
  },
  {
   "cell_type": "code",
   "execution_count": 51,
   "id": "cdb61c3e-8f9d-4d35-890a-973fda3aded4",
   "metadata": {},
   "outputs": [
    {
     "name": "stdout",
     "output_type": "stream",
     "text": [
      "88\n"
     ]
    }
   ],
   "source": [
    "print(arr3[1,1,2])"
   ]
  },
  {
   "cell_type": "code",
   "execution_count": 67,
   "id": "e89f3532-e5ba-4af1-ae5b-418c56da9037",
   "metadata": {},
   "outputs": [
    {
     "name": "stdout",
     "output_type": "stream",
     "text": [
      "[34 56]\n"
     ]
    }
   ],
   "source": [
    "print(arr1[1:3])"
   ]
  },
  {
   "cell_type": "code",
   "execution_count": 21,
   "id": "b37e8233-5964-4483-90d6-654b18608997",
   "metadata": {},
   "outputs": [
    {
     "name": "stdout",
     "output_type": "stream",
     "text": [
      "[12 34 56 33]\n"
     ]
    }
   ],
   "source": [
    "import numpy as np\n",
    "arr1=np.array([12,34,56,33])\n",
    "print(arr1)"
   ]
  },
  {
   "cell_type": "code",
   "execution_count": 71,
   "id": "36bf3f26-4cb6-43a2-a101-2a90ed6585ef",
   "metadata": {},
   "outputs": [
    {
     "name": "stdout",
     "output_type": "stream",
     "text": [
      "[12 34 56]\n"
     ]
    }
   ],
   "source": [
    "print(arr1[0:3])"
   ]
  },
  {
   "cell_type": "code",
   "execution_count": 75,
   "id": "e442cc22-2ea6-4f02-8cbd-a78cc174b794",
   "metadata": {},
   "outputs": [
    {
     "name": "stdout",
     "output_type": "stream",
     "text": [
      "(2, 2, 3)\n"
     ]
    }
   ],
   "source": [
    "print(arr3.shape)"
   ]
  },
  {
   "cell_type": "code",
   "execution_count": 77,
   "id": "6d9c8b02-8ff7-4298-8a9c-fc6f34810387",
   "metadata": {},
   "outputs": [
    {
     "name": "stdout",
     "output_type": "stream",
     "text": [
      "(2, 6)\n"
     ]
    }
   ],
   "source": [
    "print(arr.shape)"
   ]
  },
  {
   "cell_type": "code",
   "execution_count": 83,
   "id": "1f7eb6c3-e654-431d-81a5-72283cafe7f9",
   "metadata": {},
   "outputs": [
    {
     "name": "stdout",
     "output_type": "stream",
     "text": [
      "[[ 1  2]\n",
      " [ 3  4]\n",
      " [ 5  6]\n",
      " [ 7  8]\n",
      " [ 9 10]]\n"
     ]
    }
   ],
   "source": [
    "import numpy as np\n",
    "arr=np.array([1,2,3,4,5,6,7,8,9,10])\n",
    "newarr=arr.reshape(5,2)\n",
    "print(newarr)"
   ]
  },
  {
   "cell_type": "code",
   "execution_count": 85,
   "id": "59c3873d-9c88-4064-9b65-3adec8d056ea",
   "metadata": {},
   "outputs": [
    {
     "name": "stdout",
     "output_type": "stream",
     "text": [
      "[[ 1  2]\n",
      " [ 3  4]\n",
      " [ 5  6]\n",
      " [ 7  8]\n",
      " [ 9 10]\n",
      " [11 12]\n",
      " [13 14]\n",
      " [15 16]\n",
      " [17 18]]\n"
     ]
    }
   ],
   "source": [
    "import numpy as np\n",
    "arr=np.array([1,2,3,4,5,6,7,8,9,10,11,12,13,14,15,16,17,18])\n",
    "newarr=arr.reshape(9,2)\n",
    "print(newarr)"
   ]
  },
  {
   "cell_type": "code",
   "execution_count": 89,
   "id": "56472e8b-1411-4fea-8ccb-243378d5b2b3",
   "metadata": {},
   "outputs": [
    {
     "name": "stdout",
     "output_type": "stream",
     "text": [
      "[[ 1  2  3  4  5  6  7  8  9]\n",
      " [10 89 56 43 12 56 98 12  6]]\n"
     ]
    }
   ],
   "source": [
    "import numpy as np\n",
    "arr=np.array([1,2,3,4,5,6,7,8,9,10,89,56,43,12,56,98,12,6])\n",
    "newarr=arr.reshape(2,9import numpy as np\n",
    "arr=np.array([1,2,3,4,5,6,7,8,9,10])\n",
    "newarr=arr.reshape(5,2)\n",
    "print(newarr))\n",
    "print(newarr)"
   ]
  },
  {
   "cell_type": "code",
   "execution_count": 95,
   "id": "d0b6f7d1-e9f3-4537-a289-80fc62c30dea",
   "metadata": {},
   "outputs": [
    {
     "name": "stdout",
     "output_type": "stream",
     "text": [
      "[[[ 1  2]\n",
      "  [ 3  4]\n",
      "  [ 5  6]]\n",
      "\n",
      " [[ 7  8]\n",
      "  [ 9 10]\n",
      "  [12 11]]]\n"
     ]
    }
   ],
   "source": [
    "import numpy as np\n",
    "arr=np.array([1,2,3,4,5,6,7,8,9,10,12,11])\n",
    "newarr=arr.reshape(2,3,2)\n",
    "print(newarr)"
   ]
  },
  {
   "cell_type": "code",
   "execution_count": null,
   "id": "da885ed3-c37a-457f-a25d-3c26be60ad22",
   "metadata": {},
   "outputs": [],
   "source": [
    "\n"
   ]
  }
 ],
 "metadata": {
  "kernelspec": {
   "display_name": "Python 3 (ipykernel)",
   "language": "python",
   "name": "python3"
  },
  "language_info": {
   "codemirror_mode": {
    "name": "ipython",
    "version": 3
   },
   "file_extension": ".py",
   "mimetype": "text/x-python",
   "name": "python",
   "nbconvert_exporter": "python",
   "pygments_lexer": "ipython3",
   "version": "3.12.4"
  }
 },
 "nbformat": 4,
 "nbformat_minor": 5
}
